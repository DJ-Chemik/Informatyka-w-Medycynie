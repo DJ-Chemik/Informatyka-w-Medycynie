{
 "cells": [
  {
   "cell_type": "markdown",
   "metadata": {},
   "source": [
    "# Imports"
   ]
  },
  {
   "cell_type": "code",
   "execution_count": 94,
   "metadata": {},
   "outputs": [],
   "source": [
    "import numpy as np\n",
    "import matplotlib.pyplot as plt\n",
    "import math \n",
    "from bresenham import bresenham\n",
    "from skimage.io import imread\n",
    "from skimage.color import rgb2gray\n",
    "from skimage.transform import resize\n",
    "from skimage.filters import median\n",
    "from datetime import datetime \n",
    "import pydicom\n",
    "from pydicom.dataset import Dataset, FileDataset\n",
    "from pydicom.uid import ExplicitVRLittleEndian\n",
    "from pydicom._storage_sopclass_uids import MRImageStorage\n",
    "import ipywidgets as widgets\n",
    "from dateutil.parser import parse\n",
    "import re"
   ]
  },
  {
   "cell_type": "markdown",
   "metadata": {},
   "source": [
    "# Global variables"
   ]
  },
  {
   "cell_type": "code",
   "execution_count": 95,
   "metadata": {},
   "outputs": [],
   "source": [
    "STEP = 1 # step of emitter in degrees\n",
    "NUMBER_OF_DETECTORS = 90\n",
    "DETECTORS_RANGE = 90 # degrees\n",
    "RANGE = 360 # iterations\n",
    "RADIUS = int() # initialized and compute after image is loaded\n",
    "IS_FILTER = True\n",
    "IS_DICOM = True\n",
    "SOURCE = \"photos/Shepp_logan.jpg\"\n",
    "\n",
    "PATIENT_NAME = \"Karol Okrasa\"\n",
    "DESCRIPTION = \"description\"\n",
    "DATE = datetime.now()\n",
    "\n",
    "original = list()\n",
    "input_image = list()\n",
    "reverses = list()\n",
    "sinograms = list()"
   ]
  },
  {
   "cell_type": "markdown",
   "metadata": {},
   "source": [
    "# Main"
   ]
  },
  {
   "cell_type": "code",
   "execution_count": 96,
   "metadata": {},
   "outputs": [],
   "source": [
    "def main():\n",
    "    image = rgb2gray(imread(SOURCE))\n",
    "    global original\n",
    "    original = np.copy(image)\n",
    "    resized = resize(image, (len(image) / 4, len(image[0]) / 4))\n",
    "    new_edge = round(math.sqrt(2) * max(len(resized), len(resized[0])))\n",
    "    radius = round(new_edge / 2)\n",
    "\n",
    "    image = np.zeros([new_edge, new_edge])\n",
    "    image[radius - round(len(resized) / 2) : radius + round(len(resized) / 2), radius - round(len(resized[0]) / 2) : radius + round(len(resized[0]) / 2)] = resized\n",
    "    \n",
    "    global input_image\n",
    "    global RADIUS     \n",
    "    input_image = image\n",
    "    RADIUS = round(len(image) / 2) - 1\n",
    "\n",
    "    \n",
    "    sinogram = make_sinogram(image)\n",
    "    \n",
    "    reverse_sinogram = make_reverse_sinogram(sinogram, [len(image), len(image[0])])\n",
    "    reverse_sinogram = reverse_sinogram[round(len(image) / 4) : 3 * round(len(image) / 4), round(len(image[0]) / 4) : 3 * round(len(image[0]) / 4)]\n",
    "    reverse_sinogram = normalize(reverse_sinogram)\n",
    "\n",
    "    if IS_FILTER:\n",
    "        reverse_sinogram = median(reverse_sinogram, selem=np.ones((5, 5)))\n",
    "\n",
    "    if IS_DICOM:\n",
    "        create_dicom(normalized_reverse_sinogram)\n",
    "        dicom_image = pydicom.dcmread(\"output.dcm\")\n",
    "\n",
    "    image = original[round(len(image) / 4) : 3 * round(len(image) / 4), round(len(image[0]) / 4) : 3 * round(len(image[0]) / 4)]\n",
    "    display_images(image, sinogram, reverse_sinogram)"
   ]
  },
  {
   "cell_type": "markdown",
   "metadata": {},
   "source": [
    "# Functions"
   ]
  },
  {
   "cell_type": "markdown",
   "metadata": {},
   "source": [
    "### Display Images"
   ]
  },
  {
   "cell_type": "code",
   "execution_count": 97,
   "metadata": {},
   "outputs": [],
   "source": [
    "def display_images(image, sinogram, reverse):\n",
    "    tmp_image = original[round(len(image) / 4) : 3 * round(len(image) / 4), round(len(image[0]) / 4) : 3 * round(len(image[0]) / 4)]\n",
    "    print(\"Błąd średiokwadratowy: \" + str(mse(tmp_image, reverse)))\n",
    "    \n",
    "    plt.close()\n",
    "    \n",
    "    fig, axes = plt.subplots(nrows=1, ncols=3, figsize=(15, 5))\n",
    "    axes[0].set_title('Obraz wejściowy')\n",
    "    axes[1].set_title('Sinogram')\n",
    "    axes[2].set_title('Obraz wyjściowy')\n",
    "    \n",
    "    axes[0].imshow(image, cmap='gray')\n",
    "    axes[1].imshow(sinogram, cmap='gray')\n",
    "    axes[2].imshow(reverse, cmap='gray')\n",
    "    \n",
    "    axes[0].axis('off')\n",
    "    axes[1].axis('off')\n",
    "    axes[2].axis('off')\n",
    "    \n",
    "    plt.show()"
   ]
  },
  {
   "cell_type": "markdown",
   "metadata": {},
   "source": [
    "### Emiter position"
   ]
  },
  {
   "cell_type": "code",
   "execution_count": 98,
   "metadata": {},
   "outputs": [],
   "source": [
    "def set_emitter_position(angle):\n",
    "    x = RADIUS * math.cos(math.radians(angle)) + RADIUS\n",
    "    y = RADIUS * math.sin(math.radians(angle)) + RADIUS\n",
    "    return [round(x), round(y)]"
   ]
  },
  {
   "cell_type": "markdown",
   "metadata": {},
   "source": [
    "### Detectors positions"
   ]
  },
  {
   "cell_type": "code",
   "execution_count": 99,
   "metadata": {},
   "outputs": [],
   "source": [
    "def set_detectors_positions(angle):\n",
    "    result = list()\n",
    "    \n",
    "    for i in range(NUMBER_OF_DETECTORS):\n",
    "        x = RADIUS * math.cos(math.radians(angle) + math.pi - (math.radians(DETECTORS_RANGE) / 2) \n",
    "                         + i * (math.radians(DETECTORS_RANGE) / (NUMBER_OF_DETECTORS - 1)))\n",
    "        y = RADIUS * math.sin(math.radians(angle) + math.pi - (math.radians(DETECTORS_RANGE) / 2) \n",
    "                         + i * (math.radians(DETECTORS_RANGE) / (NUMBER_OF_DETECTORS - 1)))\n",
    "        result.append([round(x + RADIUS), round(y + RADIUS)])\n",
    "    \n",
    "    return result"
   ]
  },
  {
   "cell_type": "markdown",
   "metadata": {},
   "source": [
    "### All positions"
   ]
  },
  {
   "cell_type": "code",
   "execution_count": 100,
   "metadata": {},
   "outputs": [],
   "source": [
    "def set_positions():\n",
    "    emitters = list()\n",
    "    detectors = list()\n",
    "    \n",
    "    for i in range (0, RANGE, STEP):\n",
    "        emitters.append(set_emitter_position(i))\n",
    "        detectors.append(set_detectors_positions(i))\n",
    "        \n",
    "    return emitters, detectors"
   ]
  },
  {
   "cell_type": "markdown",
   "metadata": {},
   "source": [
    "### Sinogram"
   ]
  },
  {
   "cell_type": "code",
   "execution_count": 101,
   "metadata": {},
   "outputs": [],
   "source": [
    "def make_sinogram(image):\n",
    "    emitters, detectors = set_positions()\n",
    "    sinogram = np.zeros([len(emitters), len(detectors[0])])\n",
    "    \n",
    "    for i, [emitterX, emitterY] in enumerate(emitters):\n",
    "        for j, [detectorX, detectorY] in enumerate(detectors[i]):\n",
    "            line = bresenham(emitterX, emitterY, detectorX, detectorY)\n",
    "\n",
    "            for x, y in line:\n",
    "                sinogram[i, j] += image[x, y]\n",
    "                \n",
    "        sinograms.append(normalize(sinogram))\n",
    "        \n",
    "    return sinogram "
   ]
  },
  {
   "cell_type": "markdown",
   "metadata": {},
   "source": [
    "### Reverse Sinogram"
   ]
  },
  {
   "cell_type": "code",
   "execution_count": 102,
   "metadata": {},
   "outputs": [],
   "source": [
    "def make_reverse_sinogram(image, dimensions):\n",
    "    emitters, detectors = set_positions()\n",
    "    reverse_sinogram = np.zeros(dimensions)\n",
    "    \n",
    "    for i, [emitterX, emitterY] in enumerate(emitters):\n",
    "        for j, [detectorX, detectorY] in enumerate(detectors[i]):\n",
    "            line = bresenham(emitterX, emitterY, detectorX, detectorY)\n",
    "            \n",
    "            for x, y in line:\n",
    "                reverse_sinogram[x, y] += image[i][j]\n",
    "                \n",
    "        reverse = reverse_sinogram[round(len(image) / 4) : 3 * round(len(image) / 4), round(len(image[0]) / 4) : 3 * round(len(image[0]) / 4)]\n",
    "        reverse = normalize(reverse)\n",
    "        reverses.append(reverse)\n",
    "    \n",
    "    return reverse"
   ]
  },
  {
   "cell_type": "markdown",
   "metadata": {},
   "source": [
    "### Normalize"
   ]
  },
  {
   "cell_type": "code",
   "execution_count": 103,
   "metadata": {},
   "outputs": [],
   "source": [
    "def normalize(image):\n",
    "    min_value = np.min(image)\n",
    "    max_value = np.max(image)\n",
    "\n",
    "    for i in range(len(image)):\n",
    "        for j in range(len(image[i])):\n",
    "            image[i, j] = (image[i, j] - min_value) / (max_value - min_value) \n",
    "\n",
    "    return image"
   ]
  },
  {
   "cell_type": "markdown",
   "metadata": {},
   "source": [
    "### MSE"
   ]
  },
  {
   "cell_type": "code",
   "execution_count": 104,
   "metadata": {},
   "outputs": [],
   "source": [
    "def mse(x, y):\n",
    "    err = np.sum((x.astype(\"float\") - y.astype(\"float\")) ** 2)\n",
    "    err /= float(len(x) * len(x[0]))\n",
    "    return err"
   ]
  },
  {
   "cell_type": "markdown",
   "metadata": {},
   "source": [
    "# DICOM"
   ]
  },
  {
   "cell_type": "code",
   "execution_count": 105,
   "metadata": {},
   "outputs": [],
   "source": [
    "def create_dicom(image):\n",
    "    image *= 256\n",
    "    image = image.astype(np.uint16)\n",
    "\n",
    "    file_meta = Dataset()\n",
    "    file_meta.MediaStorageSOPClassUID = '1.2.840.10008.5.1.4.1.1.2'\n",
    "    file_meta.MediaStorageSOPInstanceUID = \"1.2.3\"\n",
    "    file_meta.ImplementationClassUID = \"1.2.3.4\"\n",
    "    file_meta.TransferSyntaxUID = ExplicitVRLittleEndian\n",
    "\n",
    "    ds = FileDataset(\"output.dcm\", {}, file_meta=file_meta, preamble=b\"\\0\" * 128)\n",
    "    ds.is_little_endian = True\n",
    "    ds.is_implicit_VR = False\n",
    "    ds.PatientName = PATIENT_NAME\n",
    "    ds.ContentDate = DATE.strftime('%Y%m%d')\n",
    "    ds.ContentTime = DATE.strftime('%H%M%S.%f')\n",
    "    ds.StudyDescription = DESCRIPTION\n",
    "    ds.is_little_endian = True\n",
    "    ds.is_implicit_VR = False\n",
    "\n",
    "    ds.PixelRepresentation = 1\n",
    "    ds.SamplesPerPixel = 1\n",
    "    ds.PhotometricInterpretation = \"MONOCHROME2\"\n",
    "    ds.HighBit = 15\n",
    "    ds.BitsStored = 16\n",
    "    ds.BitsAllocated = 16\n",
    "    ds.SmallestImagePixelValue = str.encode('\\x00\\x00')\n",
    "    ds.LargestImagePixelValue = str.encode('\\xff\\xff')\n",
    "    ds.SOPClassUID = MRImageStorage\n",
    "    ds.Columns = len(image)\n",
    "    ds.Rows = len(image[0])\n",
    "\n",
    "    ds.PixelData = image.tobytes()\n",
    "\n",
    "    ds.save_as(\"output.dcm\")"
   ]
  },
  {
   "cell_type": "markdown",
   "metadata": {},
   "source": [
    "# GUI"
   ]
  },
  {
   "cell_type": "code",
   "execution_count": 106,
   "metadata": {
    "scrolled": true
   },
   "outputs": [
    {
     "data": {
      "application/vnd.jupyter.widget-view+json": {
       "model_id": "4a1b91aaa6e44301842dd3ce89cbbfa0",
       "version_major": 2,
       "version_minor": 0
      },
      "text/plain": [
       "HBox(children=(Label(value='Sinogram Iteration'), IntSlider(value=360, max=360, min=1)))"
      ]
     },
     "metadata": {},
     "output_type": "display_data"
    },
    {
     "data": {
      "application/vnd.jupyter.widget-view+json": {
       "model_id": "8b195069d01b491e86ef69fca2d7fa40",
       "version_major": 2,
       "version_minor": 0
      },
      "text/plain": [
       "HBox(children=(Label(value='Output Iteration'), IntSlider(value=360, max=360, min=1)))"
      ]
     },
     "metadata": {},
     "output_type": "display_data"
    },
    {
     "data": {
      "application/vnd.jupyter.widget-view+json": {
       "model_id": "74880b2cc1934ccdb65f38a6b5cdd66f",
       "version_major": 2,
       "version_minor": 0
      },
      "text/plain": [
       "HBox(children=(Label(value='Step in degrees'), IntSlider(value=1, max=36, min=1)))"
      ]
     },
     "metadata": {},
     "output_type": "display_data"
    },
    {
     "data": {
      "application/vnd.jupyter.widget-view+json": {
       "model_id": "25f309f34c2c4321811f860c1ac1350e",
       "version_major": 2,
       "version_minor": 0
      },
      "text/plain": [
       "HBox(children=(Label(value='Number of Detectors'), IntSlider(value=90, max=300, min=10, step=5)))"
      ]
     },
     "metadata": {},
     "output_type": "display_data"
    },
    {
     "data": {
      "application/vnd.jupyter.widget-view+json": {
       "model_id": "b86234f836fd4709bab1144839cfbfbf",
       "version_major": 2,
       "version_minor": 0
      },
      "text/plain": [
       "HBox(children=(Label(value='Detectors range'), IntSlider(value=90, max=360, step=10)))"
      ]
     },
     "metadata": {},
     "output_type": "display_data"
    },
    {
     "data": {
      "application/vnd.jupyter.widget-view+json": {
       "model_id": "e487d4f371604196ba3b3d7f423b0f8c",
       "version_major": 2,
       "version_minor": 0
      },
      "text/plain": [
       "HBox(children=(Label(value='Nazwa Pacjenta'), Text(value='Karol Okrasa')))"
      ]
     },
     "metadata": {},
     "output_type": "display_data"
    },
    {
     "data": {
      "application/vnd.jupyter.widget-view+json": {
       "model_id": "1dd3291fb45049c796db797ee18e6e43",
       "version_major": 2,
       "version_minor": 0
      },
      "text/plain": [
       "HBox(children=(Label(value='Opis pacjenta'), Text(value='description')))"
      ]
     },
     "metadata": {},
     "output_type": "display_data"
    },
    {
     "data": {
      "application/vnd.jupyter.widget-view+json": {
       "model_id": "e81c3240d6524e09881af77ffda97b0e",
       "version_major": 2,
       "version_minor": 0
      },
      "text/plain": [
       "HBox(children=(Label(value='Data badania'), Text(value='01-04-2020', placeholder='DD-MM-YYYY')))"
      ]
     },
     "metadata": {},
     "output_type": "display_data"
    },
    {
     "data": {
      "application/vnd.jupyter.widget-view+json": {
       "model_id": "4bcbf16f8fc8425fa64af5c2df2e21dd",
       "version_major": 2,
       "version_minor": 0
      },
      "text/plain": [
       "HBox(children=(Checkbox(value=True, description='Filtering'), Checkbox(value=True, description='DICOM')))"
      ]
     },
     "metadata": {},
     "output_type": "display_data"
    },
    {
     "data": {
      "application/vnd.jupyter.widget-view+json": {
       "model_id": "e44e3a068c324cf9ae7ffb73bb482b2f",
       "version_major": 2,
       "version_minor": 0
      },
      "text/plain": [
       "Button(button_style='danger', description='START', style=ButtonStyle())"
      ]
     },
     "metadata": {},
     "output_type": "display_data"
    },
    {
     "name": "stderr",
     "output_type": "stream",
     "text": [
      "c:\\users\\mikol\\appdata\\local\\programs\\python\\python37\\lib\\site-packages\\ipykernel_launcher.py:7: RuntimeWarning: invalid value encountered in double_scalars\n",
      "  import sys\n"
     ]
    },
    {
     "ename": "ValueError",
     "evalue": "zero-size array to reduction operation minimum which has no identity",
     "output_type": "error",
     "traceback": [
      "\u001b[1;31m---------------------------------------------------------------------------\u001b[0m",
      "\u001b[1;31mValueError\u001b[0m                                Traceback (most recent call last)",
      "\u001b[1;32m<ipython-input-106-c89a4b27f728>\u001b[0m in \u001b[0;36mstart\u001b[1;34m(b)\u001b[0m\n\u001b[0;32m    110\u001b[0m \u001b[1;33m\u001b[0m\u001b[0m\n\u001b[0;32m    111\u001b[0m \u001b[1;32mdef\u001b[0m \u001b[0mstart\u001b[0m\u001b[1;33m(\u001b[0m\u001b[0mb\u001b[0m\u001b[1;33m)\u001b[0m\u001b[1;33m:\u001b[0m\u001b[1;33m\u001b[0m\u001b[1;33m\u001b[0m\u001b[0m\n\u001b[1;32m--> 112\u001b[1;33m     \u001b[0mmain\u001b[0m\u001b[1;33m(\u001b[0m\u001b[1;33m)\u001b[0m\u001b[1;33m\u001b[0m\u001b[1;33m\u001b[0m\u001b[0m\n\u001b[0m\u001b[0;32m    113\u001b[0m \u001b[1;33m\u001b[0m\u001b[0m\n\u001b[0;32m    114\u001b[0m \u001b[0mstartButton\u001b[0m\u001b[1;33m.\u001b[0m\u001b[0mon_click\u001b[0m\u001b[1;33m(\u001b[0m\u001b[0mstart\u001b[0m\u001b[1;33m)\u001b[0m\u001b[1;33m\u001b[0m\u001b[1;33m\u001b[0m\u001b[0m\n",
      "\u001b[1;32m<ipython-input-96-0d1b52df6793>\u001b[0m in \u001b[0;36mmain\u001b[1;34m()\u001b[0m\n\u001b[0;32m     20\u001b[0m     \u001b[0mreverse_sinogram\u001b[0m \u001b[1;33m=\u001b[0m \u001b[0mmake_reverse_sinogram\u001b[0m\u001b[1;33m(\u001b[0m\u001b[0msinogram\u001b[0m\u001b[1;33m,\u001b[0m \u001b[1;33m[\u001b[0m\u001b[0mlen\u001b[0m\u001b[1;33m(\u001b[0m\u001b[0mimage\u001b[0m\u001b[1;33m)\u001b[0m\u001b[1;33m,\u001b[0m \u001b[0mlen\u001b[0m\u001b[1;33m(\u001b[0m\u001b[0mimage\u001b[0m\u001b[1;33m[\u001b[0m\u001b[1;36m0\u001b[0m\u001b[1;33m]\u001b[0m\u001b[1;33m)\u001b[0m\u001b[1;33m]\u001b[0m\u001b[1;33m)\u001b[0m\u001b[1;33m\u001b[0m\u001b[1;33m\u001b[0m\u001b[0m\n\u001b[0;32m     21\u001b[0m     \u001b[0mreverse_sinogram\u001b[0m \u001b[1;33m=\u001b[0m \u001b[0mreverse_sinogram\u001b[0m\u001b[1;33m[\u001b[0m\u001b[0mround\u001b[0m\u001b[1;33m(\u001b[0m\u001b[0mlen\u001b[0m\u001b[1;33m(\u001b[0m\u001b[0mimage\u001b[0m\u001b[1;33m)\u001b[0m \u001b[1;33m/\u001b[0m \u001b[1;36m4\u001b[0m\u001b[1;33m)\u001b[0m \u001b[1;33m:\u001b[0m \u001b[1;36m3\u001b[0m \u001b[1;33m*\u001b[0m \u001b[0mround\u001b[0m\u001b[1;33m(\u001b[0m\u001b[0mlen\u001b[0m\u001b[1;33m(\u001b[0m\u001b[0mimage\u001b[0m\u001b[1;33m)\u001b[0m \u001b[1;33m/\u001b[0m \u001b[1;36m4\u001b[0m\u001b[1;33m)\u001b[0m\u001b[1;33m,\u001b[0m \u001b[0mround\u001b[0m\u001b[1;33m(\u001b[0m\u001b[0mlen\u001b[0m\u001b[1;33m(\u001b[0m\u001b[0mimage\u001b[0m\u001b[1;33m[\u001b[0m\u001b[1;36m0\u001b[0m\u001b[1;33m]\u001b[0m\u001b[1;33m)\u001b[0m \u001b[1;33m/\u001b[0m \u001b[1;36m4\u001b[0m\u001b[1;33m)\u001b[0m \u001b[1;33m:\u001b[0m \u001b[1;36m3\u001b[0m \u001b[1;33m*\u001b[0m \u001b[0mround\u001b[0m\u001b[1;33m(\u001b[0m\u001b[0mlen\u001b[0m\u001b[1;33m(\u001b[0m\u001b[0mimage\u001b[0m\u001b[1;33m[\u001b[0m\u001b[1;36m0\u001b[0m\u001b[1;33m]\u001b[0m\u001b[1;33m)\u001b[0m \u001b[1;33m/\u001b[0m \u001b[1;36m4\u001b[0m\u001b[1;33m)\u001b[0m\u001b[1;33m]\u001b[0m\u001b[1;33m\u001b[0m\u001b[1;33m\u001b[0m\u001b[0m\n\u001b[1;32m---> 22\u001b[1;33m     \u001b[0mreverse_sinogram\u001b[0m \u001b[1;33m=\u001b[0m \u001b[0mnormalize\u001b[0m\u001b[1;33m(\u001b[0m\u001b[0mreverse_sinogram\u001b[0m\u001b[1;33m)\u001b[0m\u001b[1;33m\u001b[0m\u001b[1;33m\u001b[0m\u001b[0m\n\u001b[0m\u001b[0;32m     23\u001b[0m \u001b[1;33m\u001b[0m\u001b[0m\n\u001b[0;32m     24\u001b[0m     \u001b[1;32mif\u001b[0m \u001b[0mIS_FILTER\u001b[0m\u001b[1;33m:\u001b[0m\u001b[1;33m\u001b[0m\u001b[1;33m\u001b[0m\u001b[0m\n",
      "\u001b[1;32m<ipython-input-103-2b0c6d3718c5>\u001b[0m in \u001b[0;36mnormalize\u001b[1;34m(image)\u001b[0m\n\u001b[0;32m      1\u001b[0m \u001b[1;32mdef\u001b[0m \u001b[0mnormalize\u001b[0m\u001b[1;33m(\u001b[0m\u001b[0mimage\u001b[0m\u001b[1;33m)\u001b[0m\u001b[1;33m:\u001b[0m\u001b[1;33m\u001b[0m\u001b[1;33m\u001b[0m\u001b[0m\n\u001b[1;32m----> 2\u001b[1;33m     \u001b[0mmin_value\u001b[0m \u001b[1;33m=\u001b[0m \u001b[0mnp\u001b[0m\u001b[1;33m.\u001b[0m\u001b[0mmin\u001b[0m\u001b[1;33m(\u001b[0m\u001b[0mimage\u001b[0m\u001b[1;33m)\u001b[0m\u001b[1;33m\u001b[0m\u001b[1;33m\u001b[0m\u001b[0m\n\u001b[0m\u001b[0;32m      3\u001b[0m     \u001b[0mmax_value\u001b[0m \u001b[1;33m=\u001b[0m \u001b[0mnp\u001b[0m\u001b[1;33m.\u001b[0m\u001b[0mmax\u001b[0m\u001b[1;33m(\u001b[0m\u001b[0mimage\u001b[0m\u001b[1;33m)\u001b[0m\u001b[1;33m\u001b[0m\u001b[1;33m\u001b[0m\u001b[0m\n\u001b[0;32m      4\u001b[0m \u001b[1;33m\u001b[0m\u001b[0m\n\u001b[0;32m      5\u001b[0m     \u001b[1;32mfor\u001b[0m \u001b[0mi\u001b[0m \u001b[1;32min\u001b[0m \u001b[0mrange\u001b[0m\u001b[1;33m(\u001b[0m\u001b[0mlen\u001b[0m\u001b[1;33m(\u001b[0m\u001b[0mimage\u001b[0m\u001b[1;33m)\u001b[0m\u001b[1;33m)\u001b[0m\u001b[1;33m:\u001b[0m\u001b[1;33m\u001b[0m\u001b[1;33m\u001b[0m\u001b[0m\n",
      "\u001b[1;32m<__array_function__ internals>\u001b[0m in \u001b[0;36mamin\u001b[1;34m(*args, **kwargs)\u001b[0m\n",
      "\u001b[1;32mc:\\users\\mikol\\appdata\\local\\programs\\python\\python37\\lib\\site-packages\\numpy\\core\\fromnumeric.py\u001b[0m in \u001b[0;36mamin\u001b[1;34m(a, axis, out, keepdims, initial, where)\u001b[0m\n\u001b[0;32m   2744\u001b[0m     \"\"\"\n\u001b[0;32m   2745\u001b[0m     return _wrapreduction(a, np.minimum, 'min', axis, None, out,\n\u001b[1;32m-> 2746\u001b[1;33m                           keepdims=keepdims, initial=initial, where=where)\n\u001b[0m\u001b[0;32m   2747\u001b[0m \u001b[1;33m\u001b[0m\u001b[0m\n\u001b[0;32m   2748\u001b[0m \u001b[1;33m\u001b[0m\u001b[0m\n",
      "\u001b[1;32mc:\\users\\mikol\\appdata\\local\\programs\\python\\python37\\lib\\site-packages\\numpy\\core\\fromnumeric.py\u001b[0m in \u001b[0;36m_wrapreduction\u001b[1;34m(obj, ufunc, method, axis, dtype, out, **kwargs)\u001b[0m\n\u001b[0;32m     88\u001b[0m                 \u001b[1;32mreturn\u001b[0m \u001b[0mreduction\u001b[0m\u001b[1;33m(\u001b[0m\u001b[0maxis\u001b[0m\u001b[1;33m=\u001b[0m\u001b[0maxis\u001b[0m\u001b[1;33m,\u001b[0m \u001b[0mout\u001b[0m\u001b[1;33m=\u001b[0m\u001b[0mout\u001b[0m\u001b[1;33m,\u001b[0m \u001b[1;33m**\u001b[0m\u001b[0mpasskwargs\u001b[0m\u001b[1;33m)\u001b[0m\u001b[1;33m\u001b[0m\u001b[1;33m\u001b[0m\u001b[0m\n\u001b[0;32m     89\u001b[0m \u001b[1;33m\u001b[0m\u001b[0m\n\u001b[1;32m---> 90\u001b[1;33m     \u001b[1;32mreturn\u001b[0m \u001b[0mufunc\u001b[0m\u001b[1;33m.\u001b[0m\u001b[0mreduce\u001b[0m\u001b[1;33m(\u001b[0m\u001b[0mobj\u001b[0m\u001b[1;33m,\u001b[0m \u001b[0maxis\u001b[0m\u001b[1;33m,\u001b[0m \u001b[0mdtype\u001b[0m\u001b[1;33m,\u001b[0m \u001b[0mout\u001b[0m\u001b[1;33m,\u001b[0m \u001b[1;33m**\u001b[0m\u001b[0mpasskwargs\u001b[0m\u001b[1;33m)\u001b[0m\u001b[1;33m\u001b[0m\u001b[1;33m\u001b[0m\u001b[0m\n\u001b[0m\u001b[0;32m     91\u001b[0m \u001b[1;33m\u001b[0m\u001b[0m\n\u001b[0;32m     92\u001b[0m \u001b[1;33m\u001b[0m\u001b[0m\n",
      "\u001b[1;31mValueError\u001b[0m: zero-size array to reduction operation minimum which has no identity"
     ]
    }
   ],
   "source": [
    "#Sliders\n",
    "sinogram_iter = widgets.IntSlider(description = \"Sinogram Iteration\", min=1, max=360, step=1, value=360) # iterations \n",
    "output_iter = widgets.IntSlider(description = \"Output Iteration\", min=1, max=360, step=1, value=360) # iterations \n",
    "step_slider = widgets.IntSlider(description = \"Step in degrees\", min=1, max=36, step=1, value=1) # step of emitter in degrees\n",
    "detectors_slider = widgets.IntSlider(description = \"Number of Detectors\", min=10, max=300, step=5, value=90)\n",
    "detector_range_slider = widgets.IntSlider(description = \"Detectors range\", min=0, max=360, step=10, value=90) # degrees\n",
    "sliders = [sinogram_iter, output_iter, step_slider, detectors_slider, detector_range_slider]\n",
    "\n",
    "def on_change_sinogram(v):\n",
    "    display_images(input_image, sinograms[v.new - 1], reverses[output_iter.value - 1])\n",
    "    \n",
    "def on_change_output(v):\n",
    "    reverse = reverses[v.new - 1]\n",
    "    if IS_FILTER:\n",
    "        reverse = median(reverse, selem=np.ones((5, 5))) \n",
    "    display_images(input_image, sinograms[sinogram_iter.value - 1], reverse)\n",
    "    \n",
    "def on_change_STEP(v):\n",
    "    global STEP\n",
    "    STEP = v.new\n",
    "    \n",
    "def on_change_NUMBER_OF_DETECTORS(v):\n",
    "    global NUMBER_OF_DETECTORS\n",
    "    NUMBER_OF_DETECTORS = v.new\n",
    "    \n",
    "def on_change_DETECTORS_RANGE(v):\n",
    "    global DETECTORS_RANGE\n",
    "    DETECTORS_RANGE = v.new\n",
    "\n",
    "sinogram_iter.observe(on_change_sinogram, names=\"value\")\n",
    "output_iter.observe(on_change_output, names=\"value\")\n",
    "step_slider.observe(on_change_STEP, names=\"value\")\n",
    "detectors_slider.observe(on_change_NUMBER_OF_DETECTORS, names=\"value\")\n",
    "detector_range_slider.observe(on_change_DETECTORS_RANGE, names=\"value\")\n",
    "\n",
    "for slider in sliders:\n",
    "    hbox=widgets.HBox([widgets.Label(slider.description),slider])\n",
    "    slider.description=\"\"\n",
    "    display(hbox)\n",
    "    \n",
    "\n",
    "#TEXT FIELDS\n",
    "texts = []    \n",
    "texts.append(widgets.Text(description=\"Nazwa Pacjenta\",value=PATIENT_NAME))\n",
    "texts.append(widgets.Text(description=\"Opis pacjenta\", value=DESCRIPTION))\n",
    "texts.append(widgets.Text(description=\"Data badania\", placeholder='DD-MM-YYYY', value=DATE.strftime(\"%d-%m-%Y\")))\n",
    "\n",
    "for text in texts:\n",
    "    hbox=widgets.HBox([widgets.Label(text.description),text])\n",
    "    text.description=\"\"\n",
    "    display(hbox)\n",
    "\n",
    "def updateName(text):\n",
    "    PATIENT_NAME = texts[0].value\n",
    "def updateDescription(text):\n",
    "    DESCRIPTION = texts[1].value\n",
    "\n",
    "def updateDate(text):\n",
    "    global DATE\n",
    "    c1 = re.search(\"^[0-2][0-8]-[0][2]-[1-2][0-9][0-9][0-9]$\", texts[2].value) #February\n",
    "    c1a = re.search(\"^[2][9]-[0][2]-[1-2][0-9][0-9][0,2,4,6,8]$\", texts[2].value) #February\n",
    "    c1b = re.search(\"^[2][9]-[0][2]-[1-2][0-9][0-9][0,2,4,6,8]$\", texts[2].value) #February\n",
    "    c2 = re.search(\"^[0-2][0-9]-[0][4,6,9]-[1-2][0-9][0-9][0-9]$\", texts[2].value) #Short months \n",
    "    c3 = re.search(\"^[3][0]-[0][4,6,9]-[1-2][0-9][0-9][0-9]$\", texts[2].value) #Short months \n",
    "    c4 = re.search(\"^[0-2][0-9]-[1][1]-[1-2][0-9][0-9][0-9]$\", texts[2].value) #Short months\n",
    "    c5 = re.search(\"^[3][0]-[1][1]-[1-2][0-9][0-9][0-9]$\", texts[2].value) #Short months\n",
    "    \n",
    "    c6 = re.search(\"^[0-2][0-9]-[0][1,3,5,7,8]-[1-2][0-9][0-9][0-9]$\", texts[2].value) #Long months\n",
    "    c7 = re.search(\"^[0-2][0-9]-[0][1,3,5,7,8]-[1-2][0-9][0-9][0-9]$\", texts[2].value) #Long months\n",
    "    c8 = re.search(\"^[3][0-1]-[1][0,2]-[1-2][0-9][0-9][0-9]$\", texts[2].value) #Long months\n",
    "    c9 = re.search(\"^[3][0-1]-[1][0,2]-[1-2][0-9][0-9][0-9]$\", texts[2].value) #Long months\n",
    "    if (c1 or c2 or c3 or c4 or c5 or c6 or c7 or c8 or c9):\n",
    "        DATE = parse(texts[2].value)\n",
    "    print(DATE.date())\n",
    "\n",
    "\n",
    "texts[0].observe(updateName)\n",
    "texts[1].observe(updateDescription)\n",
    "texts[2].observe(updateDate)\n",
    "\n",
    "#CheckBoxes\n",
    "checkboxes = []\n",
    "checkboxes.append(widgets.Checkbox(description=\"Filtering\", value=True))\n",
    "checkboxes.append(widgets.Checkbox(description=\"DICOM\", value=True))\n",
    "box=widgets.HBox([checkboxes[0],checkboxes[1]])\n",
    "display(box)\n",
    "\n",
    "def isFilteringUpdate(cb):\n",
    "    global IS_FILTER\n",
    "    global IS_DICOM\n",
    "    IS_FILTER = checkboxes[0].value\n",
    "    if (checkboxes[0].value==False):\n",
    "        IS_DICOM = False\n",
    "        checkboxes[1].value = False\n",
    "        \n",
    "def isDicomUpdate(cb):\n",
    "    global IS_FILTER\n",
    "    global IS_DICOM\n",
    "    IS_DICOM = checkboxes[1].value\n",
    "    if (checkboxes[1].value==True):\n",
    "        IS_FILTER = True\n",
    "        checkboxes[0].value = True\n",
    "    \n",
    "checkboxes[0].observe(isFilteringUpdate)\n",
    "checkboxes[1].observe(isDicomUpdate)\n",
    "\n",
    "#Start Button\n",
    "startButton = widgets.Button(description=\"START\", button_style=\"danger\")\n",
    "display(startButton)\n",
    "\n",
    "def start(b):\n",
    "    main()\n",
    "\n",
    "startButton.on_click(start)"
   ]
  }
 ],
 "metadata": {
  "kernelspec": {
   "display_name": "Python 3",
   "language": "python",
   "name": "python3"
  },
  "language_info": {
   "codemirror_mode": {
    "name": "ipython",
    "version": 3
   },
   "file_extension": ".py",
   "mimetype": "text/x-python",
   "name": "python",
   "nbconvert_exporter": "python",
   "pygments_lexer": "ipython3",
   "version": "3.7.5"
  }
 },
 "nbformat": 4,
 "nbformat_minor": 2
}
