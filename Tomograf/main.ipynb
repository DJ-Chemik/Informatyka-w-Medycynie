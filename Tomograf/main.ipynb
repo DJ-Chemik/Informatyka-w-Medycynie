{
 "cells": [
  {
   "cell_type": "markdown",
   "metadata": {},
   "source": [
    "# Imports"
   ]
  },
  {
   "cell_type": "code",
   "execution_count": 14,
   "metadata": {},
   "outputs": [],
   "source": [
    "import numpy as np\n",
    "import matplotlib.pyplot as plt\n",
    "import math \n",
    "from bresenham import bresenham\n",
    "from skimage.io import imread\n",
    "from skimage.color import rgb2gray\n",
    "from skimage.transform import resize\n",
    "from skimage.filters import median\n",
    "from datetime import datetime \n",
    "import pydicom\n",
    "from pydicom.dataset import Dataset, FileDataset\n",
    "from pydicom.uid import ExplicitVRLittleEndian\n",
    "from pydicom._storage_sopclass_uids import MRImageStorage\n",
    "import ipywidgets as widgets\n",
    "from dateutil.parser import parse\n",
    "import re"
   ]
  },
  {
   "cell_type": "markdown",
   "metadata": {},
   "source": [
    "# Global variables"
   ]
  },
  {
   "cell_type": "code",
   "execution_count": 15,
   "metadata": {},
   "outputs": [],
   "source": [
    "STEP = 1 # step of emitter in degrees\n",
    "NUMBER_OF_DETECTORS = 90\n",
    "DETECTORS_RANGE = 90 # degrees\n",
    "RANGE = 360 # iterations\n",
    "RADIUS = int() # initialized and compute after image is loaded\n",
    "IS_FILTER = True\n",
    "IS_DICOM = True\n",
    "SOURCE = \"photos/Shepp_logan.jpg\"#Kwadraty2.jpg\"\n",
    "\n",
    "PATIENT_NAME = \"Karol Okrasa\"\n",
    "DESCRIPTION = \"description\"\n",
    "DATE = datetime.now()"
   ]
  },
  {
   "cell_type": "markdown",
   "metadata": {},
   "source": [
    "# Main"
   ]
  },
  {
   "cell_type": "code",
   "execution_count": 16,
   "metadata": {},
   "outputs": [],
   "source": [
    "def main():\n",
    "    image = rgb2gray(imread(SOURCE))\n",
    "    copy = np.copy(image)\n",
    "    resized = resize(image, (len(image) / 4, len(image[0]) / 4))\n",
    "    new_edge = round(math.sqrt(2) * max(len(resized), len(resized[0])))\n",
    "    radius = round(new_edge / 2)\n",
    "\n",
    "    image = np.zeros([new_edge, new_edge])\n",
    "    image[radius - round(len(resized) / 2) : radius + round(len(resized) / 2), radius - round(len(resized[0]) / 2) : radius + round(len(resized[0]) / 2)] = resized\n",
    "\n",
    "    global RADIUS     \n",
    "    RADIUS = round(len(image) / 2) - 1\n",
    "\n",
    "    display_image(image, \"Zdjęcie wejściowe\")\n",
    "    \n",
    "    sinogram = make_sinogram(image)\n",
    "    normalized_sinogram = normalize(sinogram)\n",
    "    display_image(normalized_sinogram, \"Sinogram\")\n",
    "    \n",
    "    reverse_sinogram = make_reverse_sinogram(sinogram, [len(image), len(image[0])])\n",
    "    reverse_sinogram = reverse_sinogram[round(len(image) / 4) : 3 * round(len(image) / 4), round(len(image[0]) / 4) : 3 * round(len(image[0]) / 4)]\n",
    "    normalized_reverse_sinogram = normalize(reverse_sinogram)\n",
    "    display_image(reverse_sinogram, \"Zdjęcie wyjściowe\")\n",
    "\n",
    "    if IS_FILTER:\n",
    "        normalized_reverse_sinogram = median(normalized_reverse_sinogram, selem=np.ones((5, 5)))\n",
    "        display_image(normalized_reverse_sinogram, \"Zdjęcie wyjściowe z filtrem\")\n",
    "\n",
    "    if IS_DICOM:\n",
    "        create_dicom(normalized_reverse_sinogram)\n",
    "        dicom_image = pydicom.dcmread(\"output.dcm\")\n",
    "        display_image(dicom_image.pixel_array, \"DICOM\")\n",
    "\n",
    "    image = copy[round(len(image) / 4) : 3 * round(len(image) / 4), round(len(image[0]) / 4) : 3 * round(len(image[0]) / 4)]\n",
    "    print(\"Błąd średiokwadratowy: \" + str(mse(image, normalized_reverse_sinogram)))"
   ]
  },
  {
   "cell_type": "markdown",
   "metadata": {},
   "source": [
    "# Functions"
   ]
  },
  {
   "cell_type": "markdown",
   "metadata": {},
   "source": [
    "### Display Image"
   ]
  },
  {
   "cell_type": "code",
   "execution_count": 17,
   "metadata": {},
   "outputs": [],
   "source": [
    "def display_image(image, title):\n",
    "    plt.figure()\n",
    "    plt.title(title)\n",
    "    plt.imshow(image, cmap='gray')\n",
    "    plt.axis('off')\n",
    "    plt.show()"
   ]
  },
  {
   "cell_type": "markdown",
   "metadata": {},
   "source": [
    "### Emiter position"
   ]
  },
  {
   "cell_type": "code",
   "execution_count": 18,
   "metadata": {},
   "outputs": [],
   "source": [
    "def set_emitter_position(angle):\n",
    "    x = RADIUS * math.cos(math.radians(angle)) + RADIUS\n",
    "    y = RADIUS * math.sin(math.radians(angle)) + RADIUS\n",
    "    return [round(x), round(y)]"
   ]
  },
  {
   "cell_type": "markdown",
   "metadata": {},
   "source": [
    "### Detectors positions"
   ]
  },
  {
   "cell_type": "code",
   "execution_count": 19,
   "metadata": {},
   "outputs": [],
   "source": [
    "def set_detectors_positions(angle):\n",
    "    result = list()\n",
    "    \n",
    "    for i in range(NUMBER_OF_DETECTORS):\n",
    "        x = RADIUS * math.cos(math.radians(angle) + math.pi - (math.radians(DETECTORS_RANGE) / 2) \n",
    "                         + i * (math.radians(DETECTORS_RANGE) / (NUMBER_OF_DETECTORS - 1)))\n",
    "        y = RADIUS * math.sin(math.radians(angle) + math.pi - (math.radians(DETECTORS_RANGE) / 2) \n",
    "                         + i * (math.radians(DETECTORS_RANGE) / (NUMBER_OF_DETECTORS - 1)))\n",
    "        result.append([round(x + RADIUS), round(y + RADIUS)])\n",
    "    \n",
    "    return result"
   ]
  },
  {
   "cell_type": "markdown",
   "metadata": {},
   "source": [
    "### All positions"
   ]
  },
  {
   "cell_type": "code",
   "execution_count": 20,
   "metadata": {},
   "outputs": [],
   "source": [
    "def set_positions():\n",
    "    emitters = list()\n",
    "    detectors = list()\n",
    "    \n",
    "    for i in range (0, RANGE, STEP):\n",
    "        emitters.append(set_emitter_position(i))\n",
    "        detectors.append(set_detectors_positions(i))\n",
    "        \n",
    "    return emitters, detectors"
   ]
  },
  {
   "cell_type": "markdown",
   "metadata": {},
   "source": [
    "### Sinogram"
   ]
  },
  {
   "cell_type": "code",
   "execution_count": 21,
   "metadata": {},
   "outputs": [],
   "source": [
    "def make_sinogram(image):\n",
    "    emitters, detectors = set_positions()\n",
    "    sinogram = np.zeros([len(emitters), len(detectors[0])])\n",
    "    \n",
    "    for i, [emitterX, emitterY] in enumerate(emitters):\n",
    "        for j, [detectorX, detectorY] in enumerate(detectors[i]):\n",
    "            line = bresenham(emitterX, emitterY, detectorX, detectorY)\n",
    "\n",
    "            for x, y in line:\n",
    "                sinogram[i, j] += image[x, y]\n",
    "            \n",
    "    return sinogram "
   ]
  },
  {
   "cell_type": "markdown",
   "metadata": {},
   "source": [
    "### Reverse Sinogram"
   ]
  },
  {
   "cell_type": "code",
   "execution_count": 22,
   "metadata": {},
   "outputs": [],
   "source": [
    "def make_reverse_sinogram(image, dimensions):\n",
    "    emitters, detectors = set_positions()\n",
    "    reverse_sinogram = np.zeros(dimensions)\n",
    "    \n",
    "    for i, [emitterX, emitterY] in enumerate(emitters):\n",
    "        for j, [detectorX, detectorY] in enumerate(detectors[i]):\n",
    "            line = bresenham(emitterX, emitterY, detectorX, detectorY)\n",
    "            \n",
    "            for x, y in line:\n",
    "                reverse_sinogram[x, y] += image[i][j]\n",
    "                \n",
    "    return reverse_sinogram"
   ]
  },
  {
   "cell_type": "markdown",
   "metadata": {},
   "source": [
    "### Normalize"
   ]
  },
  {
   "cell_type": "code",
   "execution_count": 23,
   "metadata": {},
   "outputs": [],
   "source": [
    "def normalize(image):\n",
    "    min_value = np.min(image)\n",
    "    max_value = np.max(image)\n",
    "\n",
    "    for i in range(len(image)):\n",
    "        for j in range(len(image[i])):\n",
    "            image[i, j] = (image[i, j] - min_value) / (max_value - min_value) \n",
    "\n",
    "    return image"
   ]
  },
  {
   "cell_type": "markdown",
   "metadata": {},
   "source": [
    "### MSE"
   ]
  },
  {
   "cell_type": "code",
   "execution_count": 24,
   "metadata": {},
   "outputs": [],
   "source": [
    "def mse(x, y):\n",
    "    err = np.sum((x.astype(\"float\") - y.astype(\"float\")) ** 2)\n",
    "    err /= float(len(x) * len(x[0]))\n",
    "    return err"
   ]
  },
  {
   "cell_type": "markdown",
   "metadata": {},
   "source": [
    "# DICOM"
   ]
  },
  {
   "cell_type": "code",
   "execution_count": 25,
   "metadata": {},
   "outputs": [],
   "source": [
    "def create_dicom(image):\n",
    "    image *= 256\n",
    "    image = image.astype(np.uint16)\n",
    "\n",
    "    file_meta = Dataset()\n",
    "    file_meta.MediaStorageSOPClassUID = '1.2.840.10008.5.1.4.1.1.2'\n",
    "    file_meta.MediaStorageSOPInstanceUID = \"1.2.3\"\n",
    "    file_meta.ImplementationClassUID = \"1.2.3.4\"\n",
    "    file_meta.TransferSyntaxUID = ExplicitVRLittleEndian\n",
    "\n",
    "    ds = FileDataset(\"output.dcm\", {}, file_meta=file_meta, preamble=b\"\\0\" * 128)\n",
    "    ds.is_little_endian = True\n",
    "    ds.is_implicit_VR = False\n",
    "    ds.PatientName = PATIENT_NAME\n",
    "    ds.ContentDate = DATE.strftime('%Y%m%d')\n",
    "    ds.ContentTime = DATE.strftime('%H%M%S.%f')\n",
    "    ds.StudyDescription = DESCRIPTION\n",
    "    ds.is_little_endian = True\n",
    "    ds.is_implicit_VR = False\n",
    "\n",
    "    ds.PixelRepresentation = 1\n",
    "    ds.SamplesPerPixel = 1\n",
    "    ds.PhotometricInterpretation = \"MONOCHROME2\"\n",
    "    ds.HighBit = 15\n",
    "    ds.BitsStored = 16\n",
    "    ds.BitsAllocated = 16\n",
    "    ds.SmallestImagePixelValue = str.encode('\\x00\\x00')\n",
    "    ds.LargestImagePixelValue = str.encode('\\xff\\xff')\n",
    "    ds.SOPClassUID = MRImageStorage\n",
    "    ds.Columns = len(image)\n",
    "    ds.Rows = len(image[0])\n",
    "\n",
    "    ds.PixelData = image.tobytes()\n",
    "\n",
    "    ds.save_as(\"output.dcm\")"
   ]
  },
  {
   "cell_type": "markdown",
   "metadata": {},
   "source": [
    "# GUI"
   ]
  },
  {
   "cell_type": "code",
   "execution_count": 26,
   "metadata": {
    "scrolled": true
   },
   "outputs": [
    {
     "data": {
      "application/vnd.jupyter.widget-view+json": {
       "model_id": "16ad44bb2bb9424aae441674a545b7d0",
       "version_major": 2,
       "version_minor": 0
      },
      "text/plain": [
       "HBox(children=(Label(value='Range'), IntSlider(value=360, max=360, min=10, step=10)))"
      ]
     },
     "metadata": {},
     "output_type": "display_data"
    },
    {
     "data": {
      "application/vnd.jupyter.widget-view+json": {
       "model_id": "13cb35c80f364ac599a1f687a5e7b9ce",
       "version_major": 2,
       "version_minor": 0
      },
      "text/plain": [
       "HBox(children=(Label(value='Step in degrees'), IntSlider(value=1, max=36, min=1)))"
      ]
     },
     "metadata": {},
     "output_type": "display_data"
    },
    {
     "data": {
      "application/vnd.jupyter.widget-view+json": {
       "model_id": "24ecb5542bc34f1eb59a6cebbf9c2ec6",
       "version_major": 2,
       "version_minor": 0
      },
      "text/plain": [
       "HBox(children=(Label(value='Number of Detectors'), IntSlider(value=90, max=300, min=10, step=5)))"
      ]
     },
     "metadata": {},
     "output_type": "display_data"
    },
    {
     "data": {
      "application/vnd.jupyter.widget-view+json": {
       "model_id": "497e0507bf31468382cdf05d3f063aac",
       "version_major": 2,
       "version_minor": 0
      },
      "text/plain": [
       "HBox(children=(Label(value='Detectors range'), IntSlider(value=90, max=360, step=10)))"
      ]
     },
     "metadata": {},
     "output_type": "display_data"
    },
    {
     "data": {
      "application/vnd.jupyter.widget-view+json": {
       "model_id": "e6fcabce89ea4264ac6a4d5af2cce987",
       "version_major": 2,
       "version_minor": 0
      },
      "text/plain": [
       "HBox(children=(Label(value='Nazwa Pacjenta'), Text(value='Karol Okrasa')))"
      ]
     },
     "metadata": {},
     "output_type": "display_data"
    },
    {
     "data": {
      "application/vnd.jupyter.widget-view+json": {
       "model_id": "676a7a6fa9044a58b6a84b6b39b5e7e6",
       "version_major": 2,
       "version_minor": 0
      },
      "text/plain": [
       "HBox(children=(Label(value='Opis pacjenta'), Text(value='description')))"
      ]
     },
     "metadata": {},
     "output_type": "display_data"
    },
    {
     "data": {
      "application/vnd.jupyter.widget-view+json": {
       "model_id": "c5e63d13f78240ab8223595f9dab4b65",
       "version_major": 2,
       "version_minor": 0
      },
      "text/plain": [
       "HBox(children=(Label(value='Data badania'), Text(value='29-03-2020', placeholder='DD-MM-YYYY')))"
      ]
     },
     "metadata": {},
     "output_type": "display_data"
    },
    {
     "data": {
      "application/vnd.jupyter.widget-view+json": {
       "model_id": "79a88b7eae67480487f50992f2cc4b83",
       "version_major": 2,
       "version_minor": 0
      },
      "text/plain": [
       "HBox(children=(Checkbox(value=True, description='Filtering'), Checkbox(value=True, description='DICOM')))"
      ]
     },
     "metadata": {},
     "output_type": "display_data"
    },
    {
     "data": {
      "application/vnd.jupyter.widget-view+json": {
       "model_id": "f70d819f0bbf45ccbc4c2f1baad75e36",
       "version_major": 2,
       "version_minor": 0
      },
      "text/plain": [
       "Button(button_style='danger', description='START', style=ButtonStyle())"
      ]
     },
     "metadata": {},
     "output_type": "display_data"
    },
    {
     "data": {
      "image/png": "[encoded data removed]",
      "text/plain": [
       "<Figure size 432x288 with 1 Axes>"
      ]
     },
     "metadata": {
      "needs_background": "light"
     },
     "output_type": "display_data"
    },
    {
     "data": {
      "image/png": "[encoded data removed]",
      "text/plain": [
       "<Figure size 432x288 with 1 Axes>"
      ]
     },
     "metadata": {
      "needs_background": "light"
     },
     "output_type": "display_data"
    },
    {
     "data": {
      "image/png": "[encoded data removed]",
      "text/plain": [
       "<Figure size 432x288 with 1 Axes>"
      ]
     },
     "metadata": {
      "needs_background": "light"
     },
     "output_type": "display_data"
    }
   ],
   "source": [
    "#Sliders\n",
    "sliders = []\n",
    "sliders.append(widgets.IntSlider(description = \"Range\", min=10, max=360, step=10, value=360)) # iterations - whole cirlce\n",
    "sliders.append(widgets.IntSlider(description = \"Step in degrees\", min=1, max=36, step=1, value=1)) # step of emitter in degrees\n",
    "sliders.append(widgets.IntSlider(description = \"Number of Detectors\", min=10, max=300, step=5, value=90))\n",
    "sliders.append(widgets.IntSlider(description=\"Detectors range\", min=0, max=360, step=10, value=90)) # degrees\n",
    "\n",
    "def on_change_RANGE(v):\n",
    "    global RANGE\n",
    "    RANGE = v['new']\n",
    "\n",
    "def on_change_STEP(v):\n",
    "    global STEP\n",
    "    STEP = v['new']\n",
    "    \n",
    "def on_change_NUMBER_OF_DETECTORS(v):\n",
    "    global NUMBER_OF_DETECTORS\n",
    "    NUMBER_OF_DETECTORS = v['new']\n",
    "    \n",
    "def on_change_DETECTORS_RANGE(v):\n",
    "    global DETECTORS_RANGE\n",
    "    DETECTORS_RANGE = v['new']\n",
    "\n",
    "sliders[0].observe(on_change_RANGE, names=\"value\")\n",
    "sliders[1].observe(on_change_STEP, names=\"value\")\n",
    "sliders[2].observe(on_change_NUMBER_OF_DETECTORS, names=\"value\")\n",
    "sliders[3].observe(on_change_DETECTORS_RANGE, names=\"value\")\n",
    "\n",
    "for slider in sliders:\n",
    "    hbox=widgets.HBox([widgets.Label(slider.description),slider])\n",
    "    slider.description=\"\"\n",
    "    display(hbox)\n",
    "\n",
    "#TEXT FIELDS\n",
    "texts = []    \n",
    "texts.append(widgets.Text(description=\"Nazwa Pacjenta\",value=PATIENT_NAME))\n",
    "texts.append(widgets.Text(description=\"Opis pacjenta\", value=DESCRIPTION))\n",
    "texts.append(widgets.Text(description=\"Data badania\", placeholder='DD-MM-YYYY', value=DATE.strftime(\"%d-%m-%Y\")))\n",
    "#texts.append(widgets.Text(description=\"Dzień badania\", placeholder='DD', value=DATE.strftime(\"%d\")))\n",
    "#texts.append(widgets.Text(description=\"Miesiąc badania\", placeholder='MM', value=DATE.strftime(\"%m\")))\n",
    "#texts.append(widgets.Text(description=\"Rok badania\", placeholder='YYYY', value=DATE.strftime(\"%Y\")))\n",
    "\n",
    "for text in texts:\n",
    "    hbox=widgets.HBox([widgets.Label(text.description),text])\n",
    "    text.description=\"\"\n",
    "    display(hbox)\n",
    "\n",
    "def updateName(text):\n",
    "    PATIENT_NAME = texts[0].value\n",
    "def updateDescription(text):\n",
    "    DESCRIPTION = texts[1].value\n",
    "\n",
    "def updateDate(text):\n",
    "    global DATE\n",
    "    c1 = re.search(\"^[0-2][0-8]-[0][2]-[1-2][0-9][0-9][0-9]$\", texts[2].value) #February\n",
    "    c1a = re.search(\"^[2][9]-[0][2]-[1-2][0-9][0-9][0,2,4,6,8]$\", texts[2].value) #February\n",
    "    c1b = re.search(\"^[2][9]-[0][2]-[1-2][0-9][0-9][0,2,4,6,8]$\", texts[2].value) #February\n",
    "    c2 = re.search(\"^[0-2][0-9]-[0][4,6,9]-[1-2][0-9][0-9][0-9]$\", texts[2].value) #Short months \n",
    "    c3 = re.search(\"^[3][0]-[0][4,6,9]-[1-2][0-9][0-9][0-9]$\", texts[2].value) #Short months \n",
    "    c4 = re.search(\"^[0-2][0-9]-[1][1]-[1-2][0-9][0-9][0-9]$\", texts[2].value) #Short months\n",
    "    c5 = re.search(\"^[3][0]-[1][1]-[1-2][0-9][0-9][0-9]$\", texts[2].value) #Short months\n",
    "    \n",
    "    c6 = re.search(\"^[0-2][0-9]-[0][1,3,5,7,8]-[1-2][0-9][0-9][0-9]$\", texts[2].value) #Long months\n",
    "    c7 = re.search(\"^[0-2][0-9]-[0][1,3,5,7,8]-[1-2][0-9][0-9][0-9]$\", texts[2].value) #Long months\n",
    "    c8 = re.search(\"^[3][0-1]-[1][0,2]-[1-2][0-9][0-9][0-9]$\", texts[2].value) #Long months\n",
    "    c9 = re.search(\"^[3][0-1]-[1][0,2]-[1-2][0-9][0-9][0-9]$\", texts[2].value) #Long months\n",
    "    if (c1 or c2 or c3 or c4 or c5 or c6 or c7 or c8 or c9):\n",
    "        DATE = parse(texts[2].value)\n",
    "    print(DATE.date())\n",
    "\n",
    "\n",
    "texts[0].observe(updateName)\n",
    "texts[1].observe(updateDescription)\n",
    "texts[2].observe(updateDate)\n",
    "\n",
    "#CheckBoxes\n",
    "checkboxes = []\n",
    "checkboxes.append(widgets.Checkbox(description=\"Filtering\", value=True))\n",
    "checkboxes.append(widgets.Checkbox(description=\"DICOM\", value=True))\n",
    "box=widgets.HBox([checkboxes[0],checkboxes[1]])\n",
    "display(box)\n",
    "\n",
    "def isFilteringUpdate(cb):\n",
    "    global IS_FILTER\n",
    "    global IS_DICOM\n",
    "    IS_FILTER = checkboxes[0].value\n",
    "    if (checkboxes[0].value==False):\n",
    "        IS_DICOM = False\n",
    "        checkboxes[1].value = False\n",
    "def isDicomUpdate(cb):\n",
    "    global IS_FILTER\n",
    "    global IS_DICOM\n",
    "    IS_DICOM = checkboxes[1].value\n",
    "    if (checkboxes[1].value==True):\n",
    "        IS_FILTER = True\n",
    "        checkboxes[0].value = True\n",
    "    \n",
    "checkboxes[0].observe(isFilteringUpdate)\n",
    "checkboxes[1].observe(isDicomUpdate)\n",
    "\n",
    "#Start Button\n",
    "startButton = widgets.Button(description=\"START\", button_style=\"danger\")\n",
    "display(startButton)\n",
    "\n",
    "def start(b):\n",
    "    main()\n",
    "\n",
    "startButton.on_click(start)"
   ]
  }
 ],
 "metadata": {
  "kernelspec": {
   "display_name": "Python 3",
   "language": "python",
   "name": "python3"
  },
  "language_info": {
   "codemirror_mode": {
    "name": "ipython",
    "version": 3
   },
   "file_extension": ".py",
   "mimetype": "text/x-python",
   "name": "python",
   "nbconvert_exporter": "python",
   "pygments_lexer": "ipython3",
   "version": "3.7.5"
  }
 },
 "nbformat": 4,
 "nbformat_minor": 2
}
