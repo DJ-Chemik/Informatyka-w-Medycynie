{
 "cells": [
  {
   "cell_type": "markdown",
   "metadata": {},
   "source": [
    "# Imports"
   ]
  },
  {
   "cell_type": "code",
   "execution_count": 118,
   "metadata": {},
   "outputs": [],
   "source": [
    "import numpy as np\n",
    "import matplotlib.pyplot as plt\n",
    "import math \n",
    "from bresenham import bresenham\n",
    "from skimage.io import imread\n",
    "from skimage.color import rgb2gray\n",
    "from skimage.transform import resize\n",
    "from skimage.filters import median\n",
    "from datetime import datetime \n",
    "import pydicom\n",
    "from pydicom.dataset import Dataset, FileDataset\n",
    "from pydicom.uid import ExplicitVRLittleEndian\n",
    "from pydicom._storage_sopclass_uids import MRImageStorage\n",
    "import ipywidgets as widgets\n",
    "from dateutil.parser import parse\n",
    "from IPython.display import display, clear_output\n",
    "import re\n",
    "import warnings\n",
    "warnings.filterwarnings('ignore')"
   ]
  },
  {
   "cell_type": "markdown",
   "metadata": {},
   "source": [
    "# Global variables"
   ]
  },
  {
   "cell_type": "code",
   "execution_count": 119,
   "metadata": {},
   "outputs": [],
   "source": [
    "STEP = 1 # step of emitter in degrees\n",
    "NUMBER_OF_DETECTORS = 90\n",
    "DETECTORS_RANGE = 90 # degrees\n",
    "RANGE = 360 # iterations\n",
    "RADIUS = int() # initialized and compute after image is loaded\n",
    "IS_FILTER = True\n",
    "IS_DICOM = True\n",
    "SOURCE = \"photos/Shepp_logan.jpg\"\n",
    "\n",
    "PATIENT_NAME = \"Karol Okrasa\"\n",
    "DESCRIPTION = \"description\"\n",
    "DATE = datetime.now()\n",
    "\n",
    "original = list()\n",
    "input_image = list()\n",
    "reverses = list()\n",
    "sinograms = list()"
   ]
  },
  {
   "cell_type": "markdown",
   "metadata": {},
   "source": [
    "# Main"
   ]
  },
  {
   "cell_type": "code",
   "execution_count": 120,
   "metadata": {},
   "outputs": [],
   "source": [
    "def main():\n",
    "    image = rgb2gray(imread(SOURCE))\n",
    "    global original\n",
    "    original = np.copy(image)\n",
    "    resized = resize(image, (len(image) / 4, len(image[0]) / 4))\n",
    "    new_edge = round(math.sqrt(2) * max(len(resized), len(resized[0])))\n",
    "    radius = round(new_edge / 2)\n",
    "\n",
    "    image = np.zeros([new_edge, new_edge])\n",
    "    image[radius - round(len(resized) / 2) : radius + round(len(resized) / 2), radius - round(len(resized[0]) / 2) : radius + round(len(resized[0]) / 2)] = resized\n",
    "    \n",
    "    global input_image\n",
    "    global RADIUS     \n",
    "    input_image = image\n",
    "    RADIUS = round(len(image) / 2) - 1\n",
    "\n",
    "    \n",
    "    sinogram = make_sinogram(image)\n",
    "    \n",
    "    reverse_sinogram = make_reverse_sinogram(sinogram, [len(image), len(image[0])])\n",
    "    reverse_sinogram = reverse_sinogram[round(len(image) / 4) : 3 * round(len(image) / 4), round(len(image[0]) / 4) : 3 * round(len(image[0]) / 4)]\n",
    "    reverse_sinogram = normalize(reverse_sinogram)\n",
    "#     reverse_sinogram = reverses[-1]\n",
    "\n",
    "    if IS_FILTER:\n",
    "        reverse_sinogram = median(reverse_sinogram, selem=np.ones((5, 5)))\n",
    "\n",
    "    if IS_DICOM:\n",
    "        create_dicom(reverse_sinogram)\n",
    "        dicom_image = pydicom.dcmread(\"output.dcm\")\n",
    "\n",
    "#     image = original[round(len(image) / 4) : 3 * round(len(image) / 4), round(len(image[0]) / 4) : 3 * round(len(image[0]) / 4)]\n",
    "    display_images(image, sinogram, reverse_sinogram)"
   ]
  },
  {
   "cell_type": "markdown",
   "metadata": {},
   "source": [
    "# Functions"
   ]
  },
  {
   "cell_type": "markdown",
   "metadata": {},
   "source": [
    "### Display Images"
   ]
  },
  {
   "cell_type": "code",
   "execution_count": 121,
   "metadata": {},
   "outputs": [],
   "source": [
    "def display_images(image, sinogram, reverse):\n",
    "    tmp_image = original[round(len(image) / 4) : 3 * round(len(image) / 4), round(len(image[0]) / 4) : 3 * round(len(image[0]) / 4)]\n",
    "#     print(\"Błąd średiokwadratowy: \" + str(mse(tmp_image, reverse)))\n",
    "    with displayContainer:\n",
    "        clear_output()\n",
    "        axes[0].imshow(image, cmap='gray')\n",
    "        axes[1].imshow(sinogram, cmap='gray')\n",
    "        axes[2].imshow(reverse, cmap='gray')\n",
    "        display(fig)"
   ]
  },
  {
   "cell_type": "markdown",
   "metadata": {},
   "source": [
    "### Emiter position"
   ]
  },
  {
   "cell_type": "code",
   "execution_count": 122,
   "metadata": {},
   "outputs": [],
   "source": [
    "def set_emitter_position(angle):\n",
    "    x = RADIUS * math.cos(math.radians(angle)) + RADIUS\n",
    "    y = RADIUS * math.sin(math.radians(angle)) + RADIUS\n",
    "    return [round(x), round(y)]"
   ]
  },
  {
   "cell_type": "markdown",
   "metadata": {},
   "source": [
    "### Detectors positions"
   ]
  },
  {
   "cell_type": "code",
   "execution_count": 123,
   "metadata": {},
   "outputs": [],
   "source": [
    "def set_detectors_positions(angle):\n",
    "    result = list()\n",
    "    \n",
    "    for i in range(NUMBER_OF_DETECTORS):\n",
    "        x = RADIUS * math.cos(math.radians(angle) + math.pi - (math.radians(DETECTORS_RANGE) / 2) \n",
    "                         + i * (math.radians(DETECTORS_RANGE) / (NUMBER_OF_DETECTORS - 1)))\n",
    "        y = RADIUS * math.sin(math.radians(angle) + math.pi - (math.radians(DETECTORS_RANGE) / 2) \n",
    "                         + i * (math.radians(DETECTORS_RANGE) / (NUMBER_OF_DETECTORS - 1)))\n",
    "        result.append([round(x + RADIUS), round(y + RADIUS)])\n",
    "    \n",
    "    return result"
   ]
  },
  {
   "cell_type": "markdown",
   "metadata": {},
   "source": [
    "### All positions"
   ]
  },
  {
   "cell_type": "code",
   "execution_count": 124,
   "metadata": {},
   "outputs": [],
   "source": [
    "def set_positions():\n",
    "    emitters = list()\n",
    "    detectors = list()\n",
    "    \n",
    "    for i in range (0, RANGE, STEP):\n",
    "        emitters.append(set_emitter_position(i))\n",
    "        detectors.append(set_detectors_positions(i))\n",
    "        \n",
    "    return emitters, detectors"
   ]
  },
  {
   "cell_type": "markdown",
   "metadata": {},
   "source": [
    "### Sinogram"
   ]
  },
  {
   "cell_type": "code",
   "execution_count": 125,
   "metadata": {},
   "outputs": [],
   "source": [
    "def make_sinogram(image):\n",
    "    emitters, detectors = set_positions()\n",
    "    sinogram = np.zeros([len(emitters), len(detectors[0])])\n",
    "    \n",
    "    for i, [emitterX, emitterY] in enumerate(emitters):\n",
    "        for j, [detectorX, detectorY] in enumerate(detectors[i]):\n",
    "            line = bresenham(emitterX, emitterY, detectorX, detectorY)\n",
    "\n",
    "            for x, y in line:\n",
    "                sinogram[i, j] += image[x, y]\n",
    "                \n",
    "        sinograms.append(normalize(sinogram))\n",
    "        \n",
    "    return sinogram "
   ]
  },
  {
   "cell_type": "markdown",
   "metadata": {},
   "source": [
    "### Reverse Sinogram"
   ]
  },
  {
   "cell_type": "code",
   "execution_count": 126,
   "metadata": {},
   "outputs": [],
   "source": [
    "def make_reverse_sinogram(image, dimensions):\n",
    "    emitters, detectors = set_positions()\n",
    "    reverse_sinogram = np.zeros(dimensions)\n",
    "    \n",
    "    for i, [emitterX, emitterY] in enumerate(emitters):\n",
    "        for j, [detectorX, detectorY] in enumerate(detectors[i]):\n",
    "            line = bresenham(emitterX, emitterY, detectorX, detectorY)\n",
    "            \n",
    "            for x, y in line:\n",
    "                reverse_sinogram[x, y] += image[i][j]\n",
    "                \n",
    "        reverse = reverse_sinogram[round(len(image) / 4) : 3 * round(len(image) / 4), round(len(image[0]) / 4) : 3 * round(len(image[0]) / 4)]\n",
    "        reverse = normalize(reverse)\n",
    "        reverses.append(reverse)\n",
    "    \n",
    "    return reverse_sinogram"
   ]
  },
  {
   "cell_type": "markdown",
   "metadata": {},
   "source": [
    "### Normalize"
   ]
  },
  {
   "cell_type": "code",
   "execution_count": 127,
   "metadata": {},
   "outputs": [],
   "source": [
    "def normalize(image):\n",
    "    min_value = np.min(image)\n",
    "    max_value = np.max(image)\n",
    "\n",
    "    for i in range(len(image)):\n",
    "        for j in range(len(image[i])):\n",
    "            image[i, j] = (image[i, j] - min_value) / (max_value - min_value) \n",
    "\n",
    "    return image"
   ]
  },
  {
   "cell_type": "markdown",
   "metadata": {},
   "source": [
    "### MSE"
   ]
  },
  {
   "cell_type": "code",
   "execution_count": 128,
   "metadata": {},
   "outputs": [],
   "source": [
    "def mse(x, y):\n",
    "    err = np.sum((x.astype(\"float\") - y.astype(\"float\")) ** 2)\n",
    "    err /= float(len(x) * len(x[0]))\n",
    "    return err"
   ]
  },
  {
   "cell_type": "markdown",
   "metadata": {},
   "source": [
    "# DICOM"
   ]
  },
  {
   "cell_type": "code",
   "execution_count": 129,
   "metadata": {},
   "outputs": [],
   "source": [
    "def create_dicom(image):\n",
    "    image *= 256\n",
    "    image = image.astype(np.uint16)\n",
    "\n",
    "    file_meta = Dataset()\n",
    "    file_meta.MediaStorageSOPClassUID = '1.2.840.10008.5.1.4.1.1.2'\n",
    "    file_meta.MediaStorageSOPInstanceUID = \"1.2.3\"\n",
    "    file_meta.ImplementationClassUID = \"1.2.3.4\"\n",
    "    file_meta.TransferSyntaxUID = ExplicitVRLittleEndian\n",
    "\n",
    "    ds = FileDataset(\"output.dcm\", {}, file_meta=file_meta, preamble=b\"\\0\" * 128)\n",
    "    ds.is_little_endian = True\n",
    "    ds.is_implicit_VR = False\n",
    "    ds.PatientName = PATIENT_NAME\n",
    "    ds.ContentDate = DATE.strftime('%Y%m%d')\n",
    "    ds.ContentTime = DATE.strftime('%H%M%S.%f')\n",
    "    ds.StudyDescription = DESCRIPTION\n",
    "    ds.is_little_endian = True\n",
    "    ds.is_implicit_VR = False\n",
    "\n",
    "    ds.PixelRepresentation = 1\n",
    "    ds.SamplesPerPixel = 1\n",
    "    ds.PhotometricInterpretation = \"MONOCHROME2\"\n",
    "    ds.HighBit = 15\n",
    "    ds.BitsStored = 16\n",
    "    ds.BitsAllocated = 16\n",
    "    ds.SmallestImagePixelValue = str.encode('\\x00\\x00')\n",
    "    ds.LargestImagePixelValue = str.encode('\\xff\\xff')\n",
    "    ds.SOPClassUID = MRImageStorage\n",
    "    ds.Columns = len(image)\n",
    "    ds.Rows = len(image[0])\n",
    "\n",
    "    ds.PixelData = image.tobytes()\n",
    "\n",
    "    ds.save_as(\"output.dcm\")"
   ]
  },
  {
   "cell_type": "markdown",
   "metadata": {},
   "source": [
    "# GUI"
   ]
  },
  {
   "cell_type": "code",
   "execution_count": 130,
   "metadata": {
    "scrolled": true
   },
   "outputs": [
    {
     "data": {
      "application/vnd.jupyter.widget-view+json": {
       "model_id": "aa3b1ac07e564df885a312ed0b7f9061",
       "version_major": 2,
       "version_minor": 0
      },
      "text/plain": [
       "HBox(children=(Label(value='Sinogram Iteration'), IntSlider(value=360, max=360, min=1)))"
      ]
     },
     "metadata": {},
     "output_type": "display_data"
    },
    {
     "data": {
      "application/vnd.jupyter.widget-view+json": {
       "model_id": "5a5d87dfcab144808066c3888b90cc6c",
       "version_major": 2,
       "version_minor": 0
      },
      "text/plain": [
       "HBox(children=(Label(value='Output Iteration'), IntSlider(value=360, max=360, min=1)))"
      ]
     },
     "metadata": {},
     "output_type": "display_data"
    },
    {
     "data": {
      "application/vnd.jupyter.widget-view+json": {
       "model_id": "795ca727b26f431c8a74253e20c926d1",
       "version_major": 2,
       "version_minor": 0
      },
      "text/plain": [
       "HBox(children=(Label(value='Step in degrees'), IntSlider(value=1, max=36, min=1)))"
      ]
     },
     "metadata": {},
     "output_type": "display_data"
    },
    {
     "data": {
      "application/vnd.jupyter.widget-view+json": {
       "model_id": "f3f637ee247144da96e71b34e7da50b4",
       "version_major": 2,
       "version_minor": 0
      },
      "text/plain": [
       "HBox(children=(Label(value='Number of Detectors'), IntSlider(value=90, max=300, min=10, step=5)))"
      ]
     },
     "metadata": {},
     "output_type": "display_data"
    },
    {
     "data": {
      "application/vnd.jupyter.widget-view+json": {
       "model_id": "00e3ec0b1624460f9d11a3365cbff776",
       "version_major": 2,
       "version_minor": 0
      },
      "text/plain": [
       "HBox(children=(Label(value='Detectors range'), IntSlider(value=90, max=360, step=10)))"
      ]
     },
     "metadata": {},
     "output_type": "display_data"
    },
    {
     "data": {
      "application/vnd.jupyter.widget-view+json": {
       "model_id": "9287beda85a840abb73180cc36e487d4",
       "version_major": 2,
       "version_minor": 0
      },
      "text/plain": [
       "HBox(children=(Label(value='Nazwa Pacjenta'), Text(value='Karol Okrasa')))"
      ]
     },
     "metadata": {},
     "output_type": "display_data"
    },
    {
     "data": {
      "application/vnd.jupyter.widget-view+json": {
       "model_id": "51f12b9f2c76440dadab3087cda6bb7f",
       "version_major": 2,
       "version_minor": 0
      },
      "text/plain": [
       "HBox(children=(Label(value='Opis pacjenta'), Text(value='description')))"
      ]
     },
     "metadata": {},
     "output_type": "display_data"
    },
    {
     "data": {
      "application/vnd.jupyter.widget-view+json": {
       "model_id": "719c651599f44c9e9411e26931fa194a",
       "version_major": 2,
       "version_minor": 0
      },
      "text/plain": [
       "HBox(children=(Label(value='Data badania'), Text(value='01-04-2020', placeholder='DD-MM-YYYY')))"
      ]
     },
     "metadata": {},
     "output_type": "display_data"
    },
    {
     "data": {
      "application/vnd.jupyter.widget-view+json": {
       "model_id": "6236c17f2f8f4bcdb054ae40897cdcc5",
       "version_major": 2,
       "version_minor": 0
      },
      "text/plain": [
       "HBox(children=(Checkbox(value=True, description='Filtering'), Checkbox(value=True, description='DICOM')))"
      ]
     },
     "metadata": {},
     "output_type": "display_data"
    },
    {
     "data": {
      "application/vnd.jupyter.widget-view+json": {
       "model_id": "3ff409cc6aea4ce9ad75c101b8029dd9",
       "version_major": 2,
       "version_minor": 0
      },
      "text/plain": [
       "Button(button_style='danger', description='START', style=ButtonStyle())"
      ]
     },
     "metadata": {},
     "output_type": "display_data"
    },
    {
     "data": {
      "application/vnd.jupyter.widget-view+json": {
       "model_id": "c97b9995f3684c84a456c9c84b73b96c",
       "version_major": 2,
       "version_minor": 0
      },
      "text/plain": [
       "Output(layout=Layout(height='350px'))"
      ]
     },
     "metadata": {},
     "output_type": "display_data"
    }
   ],
   "source": [
    "#Sliders\n",
    "sinogram_iter = widgets.IntSlider(description = \"Sinogram Iteration\", min=1, max=360, step=1, value=360) # iterations \n",
    "output_iter = widgets.IntSlider(description = \"Output Iteration\", min=1, max=360, step=1, value=360) # iterations \n",
    "step_slider = widgets.IntSlider(description = \"Step in degrees\", min=1, max=36, step=1, value=1) # step of emitter in degrees\n",
    "detectors_slider = widgets.IntSlider(description = \"Number of Detectors\", min=10, max=300, step=5, value=90)\n",
    "detector_range_slider = widgets.IntSlider(description = \"Detectors range\", min=0, max=360, step=10, value=90) # degrees\n",
    "sliders = [sinogram_iter, output_iter, step_slider, detectors_slider, detector_range_slider]\n",
    "\n",
    "def on_change_sinogram(v):\n",
    "    if len(sinograms) == 0:\n",
    "        return\n",
    "    display_images(input_image, sinograms[v.new - 1], reverses[output_iter.value - 1])\n",
    "    \n",
    "def on_change_output(v):\n",
    "    if len(reverses) == 0:\n",
    "        return\n",
    "    reverse = reverses[v.new - 1]\n",
    "    if IS_FILTER:\n",
    "        reverse = median(reverse, selem=np.ones((5, 5))) \n",
    "    display_images(input_image, sinograms[sinogram_iter.value - 1], reverse)\n",
    "    \n",
    "def on_change_STEP(v):\n",
    "    global STEP\n",
    "    STEP = v.new\n",
    "    \n",
    "def on_change_NUMBER_OF_DETECTORS(v):\n",
    "    global NUMBER_OF_DETECTORS\n",
    "    NUMBER_OF_DETECTORS = v.new\n",
    "    \n",
    "def on_change_DETECTORS_RANGE(v):\n",
    "    global DETECTORS_RANGE\n",
    "    DETECTORS_RANGE = v.new\n",
    "\n",
    "sinogram_iter.observe(on_change_sinogram, names=\"value\")\n",
    "output_iter.observe(on_change_output, names=\"value\")\n",
    "step_slider.observe(on_change_STEP, names=\"value\")\n",
    "detectors_slider.observe(on_change_NUMBER_OF_DETECTORS, names=\"value\")\n",
    "detector_range_slider.observe(on_change_DETECTORS_RANGE, names=\"value\")\n",
    "\n",
    "for slider in sliders:\n",
    "    hbox=widgets.HBox([widgets.Label(slider.description),slider])\n",
    "    slider.description=\"\"\n",
    "    display(hbox)\n",
    "    \n",
    "\n",
    "#TEXT FIELDS\n",
    "texts = []    \n",
    "texts.append(widgets.Text(description=\"Nazwa Pacjenta\",value=PATIENT_NAME))\n",
    "texts.append(widgets.Text(description=\"Opis pacjenta\", value=DESCRIPTION))\n",
    "texts.append(widgets.Text(description=\"Data badania\", placeholder='DD-MM-YYYY', value=DATE.strftime(\"%d-%m-%Y\")))\n",
    "\n",
    "for text in texts:\n",
    "    hbox=widgets.HBox([widgets.Label(text.description),text])\n",
    "    text.description=\"\"\n",
    "    display(hbox)\n",
    "\n",
    "def updateName(text):\n",
    "    PATIENT_NAME = texts[0].value\n",
    "def updateDescription(text):\n",
    "    DESCRIPTION = texts[1].value\n",
    "\n",
    "def updateDate(text):\n",
    "    global DATE\n",
    "    c1 = re.search(\"^[0-2][0-8]-[0][2]-[1-2][0-9][0-9][0-9]$\", texts[2].value) #February\n",
    "    c1a = re.search(\"^[2][9]-[0][2]-[1-2][0-9][0-9][0,2,4,6,8]$\", texts[2].value) #February\n",
    "    c1b = re.search(\"^[2][9]-[0][2]-[1-2][0-9][0-9][0,2,4,6,8]$\", texts[2].value) #February\n",
    "    c2 = re.search(\"^[0-2][0-9]-[0][4,6,9]-[1-2][0-9][0-9][0-9]$\", texts[2].value) #Short months \n",
    "    c3 = re.search(\"^[3][0]-[0][4,6,9]-[1-2][0-9][0-9][0-9]$\", texts[2].value) #Short months \n",
    "    c4 = re.search(\"^[0-2][0-9]-[1][1]-[1-2][0-9][0-9][0-9]$\", texts[2].value) #Short months\n",
    "    c5 = re.search(\"^[3][0]-[1][1]-[1-2][0-9][0-9][0-9]$\", texts[2].value) #Short months\n",
    "    \n",
    "    c6 = re.search(\"^[0-2][0-9]-[0][1,3,5,7,8]-[1-2][0-9][0-9][0-9]$\", texts[2].value) #Long months\n",
    "    c7 = re.search(\"^[0-2][0-9]-[0][1,3,5,7,8]-[1-2][0-9][0-9][0-9]$\", texts[2].value) #Long months\n",
    "    c8 = re.search(\"^[3][0-1]-[1][0,2]-[1-2][0-9][0-9][0-9]$\", texts[2].value) #Long months\n",
    "    c9 = re.search(\"^[3][0-1]-[1][0,2]-[1-2][0-9][0-9][0-9]$\", texts[2].value) #Long months\n",
    "    if (c1 or c2 or c3 or c4 or c5 or c6 or c7 or c8 or c9):\n",
    "        DATE = parse(texts[2].value)\n",
    "    print(DATE.date())\n",
    "\n",
    "\n",
    "texts[0].observe(updateName)\n",
    "texts[1].observe(updateDescription)\n",
    "texts[2].observe(updateDate)\n",
    "\n",
    "#CheckBoxes\n",
    "checkboxes = []\n",
    "checkboxes.append(widgets.Checkbox(description=\"Filtering\", value=True))\n",
    "checkboxes.append(widgets.Checkbox(description=\"DICOM\", value=True))\n",
    "box=widgets.HBox([checkboxes[0],checkboxes[1]])\n",
    "display(box)\n",
    "\n",
    "def isFilteringUpdate(cb):\n",
    "    global IS_FILTER\n",
    "    global IS_DICOM\n",
    "    IS_FILTER = checkboxes[0].value\n",
    "    if (checkboxes[0].value==False):\n",
    "        IS_DICOM = False\n",
    "        checkboxes[1].value = False\n",
    "        \n",
    "def isDicomUpdate(cb):\n",
    "    global IS_FILTER\n",
    "    global IS_DICOM\n",
    "    IS_DICOM = checkboxes[1].value\n",
    "    if (checkboxes[1].value==True):\n",
    "        IS_FILTER = True\n",
    "        checkboxes[0].value = True\n",
    "    \n",
    "checkboxes[0].observe(isFilteringUpdate)\n",
    "checkboxes[1].observe(isDicomUpdate)\n",
    "\n",
    "#Start Button\n",
    "startButton = widgets.Button(description=\"START\", button_style=\"danger\")\n",
    "display(startButton)\n",
    "\n",
    "displayContainer = widgets.Output(layout={'height': '350px' })\n",
    "fig, axes = plt.subplots(nrows=1, ncols=3, figsize=(15, 5))\n",
    "axes[0].set_title('Obraz pierwotny')\n",
    "axes[1].set_title('Sinogram')\n",
    "axes[2].set_title('Obraz wynikowy')\n",
    "axes[0].axis('off')\n",
    "axes[1].axis('off')\n",
    "axes[2].axis('off')\n",
    "plt.close()\n",
    "display(displayContainer)\n",
    "\n",
    "    \n",
    "def start(b):\n",
    "    main()\n",
    "\n",
    "startButton.on_click(start)"
   ]
  }
 ],
 "metadata": {
  "kernelspec": {
   "display_name": "Python 3",
   "language": "python",
   "name": "python3"
  },
  "language_info": {
   "codemirror_mode": {
    "name": "ipython",
    "version": 3
   },
   "file_extension": ".py",
   "mimetype": "text/x-python",
   "name": "python",
   "nbconvert_exporter": "python",
   "pygments_lexer": "ipython3",
   "version": "3.7.5"
  }
 },
 "nbformat": 4,
 "nbformat_minor": 2
}
