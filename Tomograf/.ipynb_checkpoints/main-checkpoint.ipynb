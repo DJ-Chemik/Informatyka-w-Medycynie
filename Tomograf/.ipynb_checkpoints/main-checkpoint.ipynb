{
 "cells": [
  {
   "cell_type": "code",
   "execution_count": 2,
   "metadata": {},
   "outputs": [],
   "source": [
    "import os\n",
    "import numpy as np\n",
    "import matplotlib.pyplot as plt\n",
    "\n",
    "from skimage.io import imread\n",
    "\n",
    "# from imageio import imread\n",
    "from matplotlib.figure import Figure\n",
    "\n",
    "from skimage import filters, restoration\n",
    "from skimage.color import rgb2gray\n",
    "from skimage.transform import resize\n",
    "\n",
    "from scipy.ndimage.filters import median_filter"
   ]
  },
  {
   "cell_type": "markdown",
   "metadata": {},
   "source": [
    "# Main"
   ]
  },
  {
   "cell_type": "code",
   "execution_count": null,
   "metadata": {},
   "outputs": [],
   "source": [
    "def main():\n",
    "    # wczytaj obraz\n",
    "    # Radon\n",
    "    # Bresenham\n",
    "    # sinogram\n",
    "    # odwrotny sinogram\n",
    "    # pozycje detektorów i emiterów\n",
    "    # normalizacja wyników\n",
    "    \n",
    "    # do konfiguracji:\n",
    "    # - Krok ∆α układu emiter/detektor.\n",
    "    # - Dla jednego układu emiter/detektor liczbę detektorów (n).\n",
    "    # - Rozwartość /rozpiętość układu emiter/detektor (l).\n"
   ]
  },
  {
   "cell_type": "markdown",
   "metadata": {},
   "source": [
    "# Functions"
   ]
  },
  {
   "cell_type": "code",
   "execution_count": null,
   "metadata": {},
   "outputs": [],
   "source": []
  }
 ],
 "metadata": {
  "kernelspec": {
   "display_name": "Python 3",
   "language": "python",
   "name": "python3"
  },
  "language_info": {
   "codemirror_mode": {
    "name": "ipython",
    "version": 3
   },
   "file_extension": ".py",
   "mimetype": "text/x-python",
   "name": "python",
   "nbconvert_exporter": "python",
   "pygments_lexer": "ipython3",
   "version": "3.7.5"
  }
 },
 "nbformat": 4,
 "nbformat_minor": 2
}
