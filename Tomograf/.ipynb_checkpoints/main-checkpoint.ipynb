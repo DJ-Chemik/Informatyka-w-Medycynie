{
 "cells": [
  {
   "cell_type": "markdown",
   "metadata": {},
   "source": [
    "# Imports"
   ]
  },
  {
   "cell_type": "code",
   "execution_count": 2,
   "metadata": {},
   "outputs": [],
   "source": [
    "import os\n",
    "import numpy as np\n",
    "import matplotlib.pyplot as plt\n",
    "\n",
    "from skimage.io import imread\n",
    "\n",
    "# from imageio import imread\n",
    "from matplotlib.figure import Figure\n",
    "\n",
    "from skimage import filters, restoration\n",
    "from skimage.color import rgb2gray\n",
    "from skimage.transform import resize\n",
    "\n",
    "from scipy.ndimage.filters import median_filter"
   ]
  },
  {
   "cell_type": "markdown",
   "metadata": {},
   "source": [
    "# Global constants"
   ]
  },
  {
   "cell_type": "code",
   "execution_count": null,
   "metadata": {},
   "outputs": [],
   "source": [
    "ALPHA = 1\n",
    "DETECTORS_NUMBER = 150\n",
    "DETECTORS_RANGE = 180\n",
    "\n",
    "RADIUS = 90\n",
    "RANGE = 360"
   ]
  },
  {
   "cell_type": "markdown",
   "metadata": {},
   "source": [
    "# Main"
   ]
  },
  {
   "cell_type": "code",
   "execution_count": null,
   "metadata": {},
   "outputs": [],
   "source": [
    "def main():\n",
    "    # wczytaj obraz\n",
    "    # Radon\n",
    "    # Bresenham\n",
    "    # sinogram\n",
    "    # odwrotny sinogram\n",
    "    # pozycje detektorów i emiterów\n",
    "    # normalizacja wyników\n",
    "    \n",
    "    # do konfiguracji:\n",
    "    # - Krok ∆α układu emiter/detektor.\n",
    "    # - Dla jednego układu emiter/detektor liczbę detektorów (n).\n",
    "    # - Rozwartość /rozpiętość układu emiter/detektor (l).\n"
   ]
  },
  {
   "cell_type": "markdown",
   "metadata": {},
   "source": [
    "# Functions"
   ]
  },
  {
   "cell_type": "markdown",
   "metadata": {},
   "source": [
    "### Breseham"
   ]
  },
  {
   "cell_type": "code",
   "execution_count": null,
   "metadata": {},
   "outputs": [],
   "source": [
    "def bresenham_line(x1, y1, x2, y2):\n",
    "\n",
    "    line = []\n",
    "    if (x1 <= x2):\n",
    "        xi = 1 \n",
    "    else:\n",
    "        xi = -1\n",
    "    if(y1 <= y2):\n",
    "        yi = 1\n",
    "    else:\n",
    "        yi = -1\n",
    "\n",
    "    dx = abs(x2 - x1)\n",
    "    dy = abs(y2 - y1)\n",
    "\n",
    "    x = x1\n",
    "    y = y1\n",
    "    line.append(list(int(x), int(y)))\n",
    "    if (dx >= dy):\n",
    "        ai = (dy - dx) * 2\n",
    "        bi = dy * 2\n",
    "        d = bi - dx\n",
    "        while(x != x2):\n",
    "            if(d >= 0):\n",
    "                x += xi\n",
    "                y += yi\n",
    "                d += ai\n",
    "            else:\n",
    "                d += bi\n",
    "                x += xi\n",
    "            line.append(list(int(x),int(y)))\n",
    "    else:\n",
    "        ai = (dx - dy) * 2\n",
    "        bi = dx *2\n",
    "        d = bi - dy\n",
    "        while( y != y2):\n",
    "            if(d >= 0):\n",
    "                x += xi\n",
    "                y +=yi\n",
    "                d += ai\n",
    "            else:\n",
    "                d += bi\n",
    "                y += yi\n",
    "            line.append(list(int(x),int(y)))\n",
    "            \n",
    "    return line"
   ]
  },
  {
   "cell_type": "markdown",
   "metadata": {},
   "source": [
    "### Emiter"
   ]
  },
  {
   "cell_type": "code",
   "execution_count": null,
   "metadata": {},
   "outputs": [],
   "source": [
    "def emitter_position():\n",
    "    "
   ]
  },
  {
   "cell_type": "markdown",
   "metadata": {},
   "source": [
    "### Detectors"
   ]
  },
  {
   "cell_type": "code",
   "execution_count": null,
   "metadata": {},
   "outputs": [],
   "source": [
    "def detector_position():\n",
    "    "
   ]
  },
  {
   "cell_type": "markdown",
   "metadata": {},
   "source": [
    "### Sinogram"
   ]
  },
  {
   "cell_type": "code",
   "execution_count": null,
   "metadata": {},
   "outputs": [],
   "source": [
    "def sinogram(pic):\n",
    "    numberOfDetectors = 50\n",
    "    alpha = 1\n",
    "    rozpietosc = 90\n",
    "    rozpietoscRadiany=rozpietosc*np.pi/180;\n",
    "    pic_size = len(pic[0])\n",
    "    r = pic_size\n",
    "\n",
    "    sinogram = []\n",
    "    lines = []\n",
    "\n",
    "    i=0\n",
    "    while i<180:\n",
    "        sinogram.append([])\n",
    "        lines.append([])\n",
    "        katRadiany = i * np.pi / 180\n",
    "        x0 = r * np.cos(katRadiany)\n",
    "        y0 = r * np.sin(katRadiany)\n",
    "        x0 = int(x0) + np.floor(pic_size / 2)\n",
    "        y0 = int(y0) + np.floor(pic_size / 2)\n",
    "\n",
    "        for detector in range(0, numberOfDetectors):\n",
    "            x1 = r * np.cos(katRadiany + np.pi - rozpietoscRadiany/2 + detector*(rozpietoscRadiany/(numberOfDetectors-1)))\n",
    "            y1 = r * np.sin(katRadiany + np.pi - rozpietoscRadiany/2 + detector*(rozpietoscRadiany/(numberOfDetectors-1)))\n",
    "\n",
    "            x1 = int(x1) + np.floor(pic_size / 2)\n",
    "            y1 = int(y1) + np.floor(pic_size / 2)\n",
    "            \n",
    "            line = bresenhamLine(x0, y0, x1, y1)\n",
    "            pixel = np.float(0)\n",
    "            pixLicz = int(0)\n",
    "            for [x,y] in line:\n",
    "                if x >= 0 and y >= 0 and x < pic_size and y < pic_size:\n",
    "                    pixel += float(pic[x,y])\n",
    "                    pixLicz +=1\n",
    "            if pixLicz>0 : \n",
    "                sinogram[-1].append(pixel/pixLicz)\n",
    "            else :\n",
    "                sinogram[-1].append(0)\n",
    "            lines[-1].append([x0, y0, x1, y1])\n",
    "        i+=alpha\n",
    "#     print(type(sinogram))\n",
    "    return sinogram, lines"
   ]
  },
  {
   "cell_type": "markdown",
   "metadata": {},
   "source": [
    "### Reverse Sinogram"
   ]
  },
  {
   "cell_type": "code",
   "execution_count": null,
   "metadata": {},
   "outputs": [],
   "source": [
    "def reverse_sinogram():\n",
    "    "
   ]
  },
  {
   "cell_type": "markdown",
   "metadata": {},
   "source": [
    "### Normalize"
   ]
  },
  {
   "cell_type": "code",
   "execution_count": null,
   "metadata": {},
   "outputs": [],
   "source": [
    "def normalize():\n",
    "    "
   ]
  }
 ],
 "metadata": {
  "kernelspec": {
   "display_name": "Python 3",
   "language": "python",
   "name": "python3"
  },
  "language_info": {
   "codemirror_mode": {
    "name": "ipython",
    "version": 3
   },
   "file_extension": ".py",
   "mimetype": "text/x-python",
   "name": "python",
   "nbconvert_exporter": "python",
   "pygments_lexer": "ipython3",
   "version": "3.7.5"
  }
 },
 "nbformat": 4,
 "nbformat_minor": 2
}
